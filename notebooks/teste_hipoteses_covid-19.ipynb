{
 "cells": [
  {
   "cell_type": "markdown",
   "id": "4ebad96e",
   "metadata": {},
   "source": [
    "# Importação das Bibliotecas"
   ]
  },
  {
   "cell_type": "code",
   "execution_count": 12,
   "id": "b4b63cd9",
   "metadata": {},
   "outputs": [],
   "source": [
    "import pandas as pd\n",
    "import scipy.stats as stats\n",
    "from scipy.stats import norm\n",
    "import numpy as np\n",
    "import matplotlib.pyplot as plt\n",
    "from composicao_histograma_boxplot import composicao_histograma_boxplot\n",
    "from composicao_histograma_boxplot import calcular_estatisticas"
   ]
  },
  {
   "cell_type": "markdown",
   "id": "06482d80",
   "metadata": {},
   "source": [
    "# Leitura e Análise da Base"
   ]
  },
  {
   "cell_type": "code",
   "execution_count": 7,
   "id": "bfb5cbde",
   "metadata": {},
   "outputs": [
    {
     "name": "stdout",
     "output_type": "stream",
     "text": [
      "Amostra Vírus Enfraquecido\n",
      "--------------------------\n",
      "   Nº Amostra Sintomas  Ind. Graves\n",
      "0           1    Leves            0\n",
      "1           2   Graves            1\n",
      "2           3    Leves            0\n",
      "3           4    Leves            0\n",
      "4           5    Leves            0\n",
      "========================================\n",
      "Amostra RNA Mensageiro\n",
      "--------------------------\n",
      "   Nº Amostra Sintomas  Ind. Graves\n",
      "0           1    Leves            0\n",
      "1           2    Leves            0\n",
      "2           3   Graves            1\n",
      "3           4   Graves            1\n",
      "4           5   Graves            1\n"
     ]
    }
   ],
   "source": [
    "# Leitura da planilha \n",
    "DADOS = r\"C:\\Users\\rodri\\OneDrive\\Sincronização\\Documentos\\GitHub\\hypothesis_test_covid-19\\dados\\teste_hipoteses.xlsx\"\n",
    "\n",
    "df_virus_enfraquecido = pd.read_excel(DADOS, sheet_name=\"virus_enfraquecido\")\n",
    "df_rna_mensageiro = pd.read_excel(DADOS, sheet_name=\"rna_mensageiro\")\n",
    "\n",
    "# Visualizar as primeiras linhas\n",
    "print(\"Amostra Vírus Enfraquecido\")\n",
    "print(\"--------------------------\")\n",
    "print(df_virus_enfraquecido.head())\n",
    "print(\"=\"*40)\n",
    "print(\"Amostra RNA Mensageiro\")\n",
    "print(\"--------------------------\")\n",
    "print(df_rna_mensageiro.head())"
   ]
  },
  {
   "cell_type": "code",
   "execution_count": 8,
   "id": "f4de52ec",
   "metadata": {},
   "outputs": [
    {
     "name": "stdout",
     "output_type": "stream",
     "text": [
      "Amostra Vírus Enfraquecido\n",
      "--------------------------\n",
      "<class 'pandas.core.frame.DataFrame'>\n",
      "RangeIndex: 38 entries, 0 to 37\n",
      "Data columns (total 3 columns):\n",
      " #   Column       Non-Null Count  Dtype \n",
      "---  ------       --------------  ----- \n",
      " 0   Nº Amostra   38 non-null     int64 \n",
      " 1   Sintomas     38 non-null     object\n",
      " 2   Ind. Graves  38 non-null     int64 \n",
      "dtypes: int64(2), object(1)\n",
      "memory usage: 1.0+ KB\n",
      "None\n",
      "========================================\n",
      "Amostra RNA Mensageiro\n",
      "--------------------------\n",
      "<class 'pandas.core.frame.DataFrame'>\n",
      "RangeIndex: 50 entries, 0 to 49\n",
      "Data columns (total 3 columns):\n",
      " #   Column       Non-Null Count  Dtype \n",
      "---  ------       --------------  ----- \n",
      " 0   Nº Amostra   50 non-null     int64 \n",
      " 1   Sintomas     50 non-null     object\n",
      " 2   Ind. Graves  50 non-null     int64 \n",
      "dtypes: int64(2), object(1)\n",
      "memory usage: 1.3+ KB\n",
      "None\n"
     ]
    }
   ],
   "source": [
    "# Conferir os tipos de dados das duas amostras\n",
    "print(\"Amostra Vírus Enfraquecido\")\n",
    "print(\"--------------------------\")\n",
    "print(df_virus_enfraquecido.info())\n",
    "print(\"=\"*40)\n",
    "print(\"Amostra RNA Mensageiro\")\n",
    "print(\"--------------------------\")\n",
    "print(df_rna_mensageiro.info())"
   ]
  },
  {
   "cell_type": "markdown",
   "id": "8d4955be",
   "metadata": {},
   "source": [
    "# Identificação do Problema"
   ]
  },
  {
   "cell_type": "markdown",
   "id": "5c8bfb86",
   "metadata": {},
   "source": [
    "Com todos os esforços para combater o COVID-19, surgiram diversas iniciativas para desenvolver uma vacina eficaz para reduzir o impacto dos sintomas. Um laboratório em suas pesquisas chegou a duasestratégias viáveis:\n",
    "\n",
    "1. Vírus enfraquecido\n",
    "2. RNA mensageiro\n",
    "\n",
    "Para decidir por qual estratégia seguir, realizou um estudo clínico com 87 pessoas distribuídas aleatoriamente entre as duas estratégias. Com os resultados obtidos, como podemos responder: \n",
    "- Existe diferença na estratégia em relação à proporção de sintomas graves?"
   ]
  },
  {
   "cell_type": "code",
   "execution_count": 9,
   "id": "d9620cf5",
   "metadata": {},
   "outputs": [
    {
     "data": {
      "text/html": [
       "<div>\n",
       "<style scoped>\n",
       "    .dataframe tbody tr th:only-of-type {\n",
       "        vertical-align: middle;\n",
       "    }\n",
       "\n",
       "    .dataframe tbody tr th {\n",
       "        vertical-align: top;\n",
       "    }\n",
       "\n",
       "    .dataframe thead th {\n",
       "        text-align: right;\n",
       "    }\n",
       "</style>\n",
       "<table border=\"1\" class=\"dataframe\">\n",
       "  <thead>\n",
       "    <tr style=\"text-align: right;\">\n",
       "      <th></th>\n",
       "      <th>Grupo</th>\n",
       "      <th>Tamanho Amostra</th>\n",
       "      <th>Proporção Graves</th>\n",
       "      <th>Proporção Leves</th>\n",
       "    </tr>\n",
       "  </thead>\n",
       "  <tbody>\n",
       "    <tr>\n",
       "      <th>0</th>\n",
       "      <td>Vírus Enfraquecido</td>\n",
       "      <td>38</td>\n",
       "      <td>15.8</td>\n",
       "      <td>84.2</td>\n",
       "    </tr>\n",
       "    <tr>\n",
       "      <th>1</th>\n",
       "      <td>RNA Mensageiro</td>\n",
       "      <td>50</td>\n",
       "      <td>28.0</td>\n",
       "      <td>72.0</td>\n",
       "    </tr>\n",
       "  </tbody>\n",
       "</table>\n",
       "</div>"
      ],
      "text/plain": [
       "                Grupo  Tamanho Amostra  Proporção Graves  Proporção Leves\n",
       "0  Vírus Enfraquecido               38              15.8             84.2\n",
       "1      RNA Mensageiro               50              28.0             72.0"
      ]
     },
     "execution_count": 9,
     "metadata": {},
     "output_type": "execute_result"
    }
   ],
   "source": [
    "# Cálculo das proporções\n",
    "n_virus_enfraquecido = len(df_virus_enfraquecido)\n",
    "prop_graves_virus = (df_virus_enfraquecido[\"Ind. Graves\"].mean() * 100).round(1)\n",
    "prop_leves_virus = 100 - prop_graves_virus\n",
    "\n",
    "n_rna_mensageiro = len(df_rna_mensageiro)\n",
    "prop_graves_rna = (df_rna_mensageiro[\"Ind. Graves\"].mean() * 100).round(1)\n",
    "prop_leves_rna = 100 - prop_graves_rna\n",
    "\n",
    "# Criando um DataFrame organizado\n",
    "df_resumo = pd.DataFrame({\n",
    "    \"Grupo\": [\"Vírus Enfraquecido\", \"RNA Mensageiro\"],\n",
    "    \"Tamanho Amostra\": [n_virus_enfraquecido, n_rna_mensageiro],\n",
    "    \"Proporção Graves\": [prop_graves_virus, prop_graves_rna],\n",
    "    \"Proporção Leves\": [prop_leves_virus, prop_leves_rna]\n",
    "})\n",
    "\n",
    "# Exibir o DataFrame\n",
    "df_resumo"
   ]
  },
  {
   "cell_type": "markdown",
   "id": "2f087ff5",
   "metadata": {},
   "source": [
    "Para responder a pergunta precisamos saber se a **proporção** de pessoas com sintomas graves tendo sido vacinadas com o **vírus enfraquecido (VE)** é **estatisticamente diferente** da **proporção** de pessoas com sintomas graves que foram vacinadas com o **RNA mensageiro (RNA)**.\n",
    "\n",
    "Definimos então as seguintes hipóteses nula e alternativa:\n",
    "- H0: A proporção sintomas graves VE é igual a proporção sintomas graves RNA, ou:\n",
    "pVE = pRNA\n",
    "- H1: A proporção sintomas graves VE é diferente da proporção sintomas graves\n",
    "RNA, ou: pVE ≠ pRNA"
   ]
  },
  {
   "cell_type": "code",
   "execution_count": 22,
   "id": "671be88f",
   "metadata": {},
   "outputs": [
    {
     "name": "stdout",
     "output_type": "stream",
     "text": [
      "Para esta comparação utilizaremos o Teste-Z para 2 populações\n",
      "Estatística Z: -1.353\n",
      "========================================\n",
      " \n",
      "Após realizar o Teste-Z, podemos calcular o p-valor\n",
      "Valor-p: 18%\n"
     ]
    }
   ],
   "source": [
    "# Proporções e tamanhos das amostras\n",
    "p1 = df_resumo.loc[0, \"Proporção Graves\"] / 100  # Proporção de casos graves no grupo 1 (vírus enfraquecido)\n",
    "p2 = df_resumo.loc[1, \"Proporção Graves\"] / 100  # Proporção de casos graves no grupo 2 (RNA mensageiro)\n",
    "n1 = df_resumo.loc[0, \"Tamanho Amostra\"]  # Tamanho da amostra do grupo 1\n",
    "n2 = df_resumo.loc[1, \"Tamanho Amostra\"]  # Tamanho da amostra do grupo 2\n",
    "\n",
    "# Proporção combinada (ponderada)\n",
    "p_comb = ((p1 * n1) + (p2 * n2)) / (n1 + n2)  # Calcula a proporção combinada (média ponderada)\n",
    "\n",
    "# Erro padrão da diferença de proporções\n",
    "SE = np.sqrt(p_comb * (1 - p_comb) * (1/n1 + 1/n2))  # Cálculo do erro padrão\n",
    "\n",
    "# Cálculo da estatística Z\n",
    "z = (p1 - p2) / SE  # Estatística Z para a diferença entre as proporções\n",
    "\n",
    "# Cálculo do valor-p (teste bicaudal)\n",
    "p_valor = (2 * (1 - norm.cdf(abs(z))) * 100).round(0)  # Valor-p para o teste bicaudal\n",
    "\n",
    "# Exibir resultados\n",
    "print(\"Para esta comparação utilizaremos o Teste-Z para 2 populações\")\n",
    "print(f\"Estatística Z: {z:.3f}\")  # Exibe a estatística Z calculada\n",
    "print(\"=\"*40)\n",
    "print(\" \")\n",
    "print(\"Após realizar o Teste-Z, podemos calcular o p-valor\")\n",
    "print(f\"Valor-p: {p_valor:.0f}%\")  # Exibe o valor-p calculado"
   ]
  },
  {
   "cell_type": "markdown",
   "id": "bc8dd5d7",
   "metadata": {},
   "source": [
    "Como o **p-valor de 18% é maior que o nível de significância de 5%**, podemos concluir que **não existem evidências estatísticas suficientes contra H0**, ou seja, não rejeitamos H0.\n",
    "\n",
    "Relembrando as hipóteses definidas:\n",
    "- H0: A proporção sintomas graves VE é igual a proporção sintomas graves RNA\n",
    "- H1: A proporção sintomas graves VE é diferente da proporção sintomas graves RNA\n",
    "\n",
    "E como não rejeitamos H0, podemos dizer que não existem evidências estatísticas de que a proporção de pessoas com sintomas graves não é igual nos 2 tipos de vacinas."
   ]
  }
 ],
 "metadata": {
  "kernelspec": {
   "display_name": "Python (venv)",
   "language": "python",
   "name": "venv"
  },
  "language_info": {
   "codemirror_mode": {
    "name": "ipython",
    "version": 3
   },
   "file_extension": ".py",
   "mimetype": "text/x-python",
   "name": "python",
   "nbconvert_exporter": "python",
   "pygments_lexer": "ipython3",
   "version": "3.13.0"
  }
 },
 "nbformat": 4,
 "nbformat_minor": 5
}
