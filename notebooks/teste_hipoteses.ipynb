{
 "cells": [
  {
   "cell_type": "code",
   "execution_count": 2,
   "id": "b4b63cd9",
   "metadata": {},
   "outputs": [],
   "source": [
    "import pandas as pd\n",
    "import scipy.stats as stats\n",
    "import numpy as np\n",
    "import matplotlib.pyplot as plt\n",
    "from composicao_histograma_boxplot import composicao_histograma_boxplot\n",
    "from composicao_histograma_boxplot import calcular_estatisticas"
   ]
  },
  {
   "cell_type": "code",
   "execution_count": 6,
   "id": "bfb5cbde",
   "metadata": {},
   "outputs": [
    {
     "name": "stdout",
     "output_type": "stream",
     "text": [
      "Amostra Vírus Enfraquecido\n",
      "--------------------------\n",
      "   Nº Amostra Sintomas  Ind. Graves\n",
      "0           1    Leves            0\n",
      "1           2   Graves            1\n",
      "2           3    Leves            0\n",
      "3           4    Leves            0\n",
      "4           5    Leves            0\n",
      "========================================\n",
      "Amostra RNA Mensageiro\n",
      "--------------------------\n",
      "   Nº Amostra Sintomas  Ind. Graves\n",
      "0           1    Leves            0\n",
      "1           2    Leves            0\n",
      "2           3   Graves            1\n",
      "3           4   Graves            1\n",
      "4           5   Graves            1\n"
     ]
    }
   ],
   "source": [
    "# Leitura da planilha \n",
    "DADOS = r\"C:\\Users\\rodri\\OneDrive\\Sincronização\\Documentos\\GitHub\\hypothesis_test_covid-19\\dados\\teste_hipoteses.xlsx\"\n",
    "\n",
    "df_virus_enfraquecido = pd.read_excel(DADOS, sheet_name=\"virus_enfraquecido\")\n",
    "df_rna_mensageiro = pd.read_excel(DADOS, sheet_name=\"rna_mensageiro\")\n",
    "\n",
    "# Visualizar as primeiras linhas\n",
    "print(\"Amostra Vírus Enfraquecido\")\n",
    "print(\"--------------------------\")\n",
    "print(df_virus_enfraquecido.head())\n",
    "print(\"=\"*40)\n",
    "print(\"Amostra RNA Mensageiro\")\n",
    "print(\"--------------------------\")\n",
    "print(df_rna_mensageiro.head())"
   ]
  },
  {
   "cell_type": "code",
   "execution_count": 7,
   "id": "f4de52ec",
   "metadata": {},
   "outputs": [
    {
     "name": "stdout",
     "output_type": "stream",
     "text": [
      "Amostra Vírus Enfraquecido\n",
      "--------------------------\n",
      "<class 'pandas.core.frame.DataFrame'>\n",
      "RangeIndex: 38 entries, 0 to 37\n",
      "Data columns (total 3 columns):\n",
      " #   Column       Non-Null Count  Dtype \n",
      "---  ------       --------------  ----- \n",
      " 0   Nº Amostra   38 non-null     int64 \n",
      " 1   Sintomas     38 non-null     object\n",
      " 2   Ind. Graves  38 non-null     int64 \n",
      "dtypes: int64(2), object(1)\n",
      "memory usage: 1.0+ KB\n",
      "None\n",
      "========================================\n",
      "Amostra RNA Mensageiro\n",
      "--------------------------\n",
      "<class 'pandas.core.frame.DataFrame'>\n",
      "RangeIndex: 50 entries, 0 to 49\n",
      "Data columns (total 3 columns):\n",
      " #   Column       Non-Null Count  Dtype \n",
      "---  ------       --------------  ----- \n",
      " 0   Nº Amostra   50 non-null     int64 \n",
      " 1   Sintomas     50 non-null     object\n",
      " 2   Ind. Graves  50 non-null     int64 \n",
      "dtypes: int64(2), object(1)\n",
      "memory usage: 1.3+ KB\n",
      "None\n"
     ]
    }
   ],
   "source": [
    "# Conferir os tipos de dados das duas amostras\n",
    "print(\"Amostra Vírus Enfraquecido\")\n",
    "print(\"--------------------------\")\n",
    "print(df_virus_enfraquecido.info())\n",
    "print(\"=\"*40)\n",
    "print(\"Amostra RNA Mensageiro\")\n",
    "print(\"--------------------------\")\n",
    "print(df_rna_mensageiro.info())"
   ]
  },
  {
   "cell_type": "code",
   "execution_count": 18,
   "id": "d9620cf5",
   "metadata": {},
   "outputs": [
    {
     "data": {
      "text/html": [
       "<div>\n",
       "<style scoped>\n",
       "    .dataframe tbody tr th:only-of-type {\n",
       "        vertical-align: middle;\n",
       "    }\n",
       "\n",
       "    .dataframe tbody tr th {\n",
       "        vertical-align: top;\n",
       "    }\n",
       "\n",
       "    .dataframe thead th {\n",
       "        text-align: right;\n",
       "    }\n",
       "</style>\n",
       "<table border=\"1\" class=\"dataframe\">\n",
       "  <thead>\n",
       "    <tr style=\"text-align: right;\">\n",
       "      <th></th>\n",
       "      <th>Grupo</th>\n",
       "      <th>Tamanho Amostra</th>\n",
       "      <th>Proporção Graves</th>\n",
       "      <th>Proporção Leves</th>\n",
       "    </tr>\n",
       "  </thead>\n",
       "  <tbody>\n",
       "    <tr>\n",
       "      <th>0</th>\n",
       "      <td>Vírus Enfraquecido</td>\n",
       "      <td>38</td>\n",
       "      <td>15.8</td>\n",
       "      <td>84.2</td>\n",
       "    </tr>\n",
       "    <tr>\n",
       "      <th>1</th>\n",
       "      <td>RNA Mensageiro</td>\n",
       "      <td>50</td>\n",
       "      <td>28.0</td>\n",
       "      <td>72.0</td>\n",
       "    </tr>\n",
       "  </tbody>\n",
       "</table>\n",
       "</div>"
      ],
      "text/plain": [
       "                Grupo  Tamanho Amostra  Proporção Graves  Proporção Leves\n",
       "0  Vírus Enfraquecido               38              15.8             84.2\n",
       "1      RNA Mensageiro               50              28.0             72.0"
      ]
     },
     "execution_count": 18,
     "metadata": {},
     "output_type": "execute_result"
    }
   ],
   "source": [
    "# Cálculo das proporções\n",
    "n_virus_enfraquecido = len(df_virus_enfraquecido)\n",
    "prop_graves_virus = (df_virus_enfraquecido[\"Ind. Graves\"].mean() * 100).round(1)\n",
    "prop_leves_virus = 100 - prop_graves_virus\n",
    "\n",
    "n_rna_mensageiro = len(df_rna_mensageiro)\n",
    "prop_graves_rna = (df_rna_mensageiro[\"Ind. Graves\"].mean() * 100).round(1)\n",
    "prop_leves_rna = 100 - prop_graves_rna\n",
    "\n",
    "# Criando um DataFrame organizado\n",
    "df_resumo = pd.DataFrame({\n",
    "    \"Grupo\": [\"Vírus Enfraquecido\", \"RNA Mensageiro\"],\n",
    "    \"Tamanho Amostra\": [n_virus_enfraquecido, n_rna_mensageiro],\n",
    "    \"Proporção Graves\": [prop_graves_virus, prop_graves_rna],\n",
    "    \"Proporção Leves\": [prop_leves_virus, prop_leves_rna]\n",
    "})\n",
    "\n",
    "# Exibir o DataFrame\n",
    "df_resumo"
   ]
  },
  {
   "cell_type": "code",
   "execution_count": 20,
   "id": "54ee4c5c",
   "metadata": {
    "scrolled": true
   },
   "outputs": [
    {
     "name": "stdout",
     "output_type": "stream",
     "text": [
      "Estatística Z: -1.353\n",
      "Valor-p: 0.17618\n"
     ]
    }
   ],
   "source": [
    "# Proporções e tamanhos das amostras\n",
    "p1 = df_resumo.loc[0, \"Proporção Graves\"] / 100  # Vírus Enfraquecido\n",
    "p2 = df_resumo.loc[1, \"Proporção Graves\"] / 100  # RNA Mensageiro\n",
    "n1 = df_resumo.loc[0, \"Tamanho Amostra\"]\n",
    "n2 = df_resumo.loc[1, \"Tamanho Amostra\"]\n",
    "\n",
    "# Proporção combinada\n",
    "p_comb = ((p1 * n1) + (p2 * n2)) / (n1 + n2)\n",
    "\n",
    "# Cálculo do valor Z\n",
    "z = (p1 - p2) / np.sqrt(p_comb * (1 - p_comb) * (1/n1 + 1/n2))\n",
    "\n",
    "# Valor-p (teste bicaudal)\n",
    "p_valor = 2 * (1 - norm.cdf(abs(z)))\n",
    "\n",
    "# Exibir resultados\n",
    "print(f\"Estatística Z: {z:.3f}\")\n",
    "print(f\"Valor-p: {p_valor:.5f}\")\n"
   ]
  }
 ],
 "metadata": {
  "kernelspec": {
   "display_name": "Python (venv)",
   "language": "python",
   "name": "venv"
  },
  "language_info": {
   "codemirror_mode": {
    "name": "ipython",
    "version": 3
   },
   "file_extension": ".py",
   "mimetype": "text/x-python",
   "name": "python",
   "nbconvert_exporter": "python",
   "pygments_lexer": "ipython3",
   "version": "3.13.0"
  }
 },
 "nbformat": 4,
 "nbformat_minor": 5
}
